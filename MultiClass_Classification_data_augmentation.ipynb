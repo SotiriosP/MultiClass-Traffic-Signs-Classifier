{
 "cells": [
  {
   "cell_type": "markdown",
   "id": "87339359",
   "metadata": {},
   "source": [
    "#### This notebook generates new data based on data augmentation techniques and saves the original images together with the augmented images in the 'data.xlsx' file, which is then used in the Multiclass Classification model development"
   ]
  },
  {
   "cell_type": "markdown",
   "id": "b83fb8d8",
   "metadata": {},
   "source": [
    "### Import Libraries"
   ]
  },
  {
   "cell_type": "code",
   "execution_count": 1,
   "id": "551190fe",
   "metadata": {},
   "outputs": [],
   "source": [
    "import pandas as pd\n",
    "import numpy as np\n",
    "import os\n",
    "import matplotlib.pyplot as plt\n",
    "import seaborn as sns\n",
    "import matplotlib.image as mpimg\n",
    "from sklearn.utils import class_weight\n",
    "import json\n",
    "from collections import Counter\n",
    "from sklearn.utils import class_weight\n",
    "import random\n",
    "from random import randint\n",
    "import warnings\n",
    "warnings.filterwarnings('always')\n",
    "warnings.filterwarnings('ignore')\n",
    "from keras.callbacks import CSVLogger\n",
    "import tensorflow as tf"
   ]
  },
  {
   "cell_type": "code",
   "execution_count": 2,
   "id": "149e1329",
   "metadata": {},
   "outputs": [],
   "source": [
    "from tensorflow.keras.preprocessing.image import ImageDataGenerator\n",
    "from tensorflow.keras.utils import load_img, image_dataset_from_directory\n",
    "import json\n",
    "from tensorflow.keras.utils import array_to_img\n",
    "from keras.preprocessing.image import ImageDataGenerator\n",
    "from keras.models import Sequential\n",
    "from keras.layers import Conv2D, MaxPooling2D\n",
    "from keras.layers import Activation, Dropout, Flatten, Dense\n",
    "from keras.callbacks import EarlyStopping\n",
    "from tensorflow.keras.callbacks import ModelCheckpoint\n",
    "from tensorflow.keras.models import load_model\n",
    "from sklearn.metrics import confusion_matrix, classification_report\n",
    "from tensorflow.keras.applications.xception import Xception\n",
    "from keras.applications.inception_v3 import InceptionV3\n",
    "from keras.applications.vgg16 import VGG16\n",
    "from tensorflow.keras.optimizers import Adam"
   ]
  },
  {
   "cell_type": "markdown",
   "id": "99625b2e",
   "metadata": {},
   "source": [
    "### Load the training dataset"
   ]
  },
  {
   "cell_type": "code",
   "execution_count": 3,
   "id": "7145c594",
   "metadata": {},
   "outputs": [],
   "source": [
    "train_signs_dir = os.getcwd() + '\\\\trafficsigns\\\\train'"
   ]
  },
  {
   "cell_type": "code",
   "execution_count": 4,
   "id": "0f230851",
   "metadata": {},
   "outputs": [
    {
     "name": "stdout",
     "output_type": "stream",
     "text": [
      "Found 1792 images belonging to 20 classes.\n"
     ]
    }
   ],
   "source": [
    "train_datagen = ImageDataGenerator(rescale=1./255)\n",
    "\n",
    "train_generator = train_datagen.flow_from_directory(train_signs_dir, target_size=(128,128), batch_size=16, shuffle=True, seed=42)"
   ]
  },
  {
   "cell_type": "code",
   "execution_count": 6,
   "id": "2c61272f",
   "metadata": {},
   "outputs": [],
   "source": [
    "with open('classlabels.txt') as f:\n",
    "    data = f.read()\n",
    "\n",
    "classes = json.loads(data)\n",
    "classes = {y: x for x, y in classes.items()}\n",
    "class_names = list(classes.keys())"
   ]
  },
  {
   "cell_type": "markdown",
   "id": "ce2772a8",
   "metadata": {},
   "source": [
    "### Check if the dataset is imbalanced"
   ]
  },
  {
   "cell_type": "code",
   "execution_count": 7,
   "id": "383c59a5",
   "metadata": {},
   "outputs": [
    {
     "data": {
      "image/png": "[encoded data removed]",
      "text/plain": [
       "<Figure size 720x720 with 1 Axes>"
      ]
     },
     "metadata": {
      "needs_background": "light"
     },
     "output_type": "display_data"
    }
   ],
   "source": [
    "counter = list((Counter(train_generator.classes)).values())\n",
    "fig,ax = plt.subplots(figsize=(10,10))    \n",
    "p = sns.barplot(y = class_names, x = counter);"
   ]
  },
  {
   "cell_type": "markdown",
   "id": "4aef1d84",
   "metadata": {},
   "source": [
    "### Generate new images"
   ]
  },
  {
   "cell_type": "code",
   "execution_count": 8,
   "id": "7b2722bd",
   "metadata": {},
   "outputs": [],
   "source": [
    "sdir=os.getcwd() + '\\\\trafficsigns\\\\'\n",
    "categories=['train']\n",
    "for category in categories:\n",
    "    category_path=os.path.join(sdir, category)\n",
    "    filepaths=[]\n",
    "    labels=[]\n",
    "    classlist=os.listdir(category_path)\n",
    "    for klass in classlist:\n",
    "        classpath=os.path.join(category_path,klass)\n",
    "        flist=os.listdir(classpath)        \n",
    "        for f in flist:\n",
    "            fpath=os.path.join(classpath,f)\n",
    "            filepaths.append(fpath)\n",
    "            labels.append(klass)\n",
    "    Fseries=pd.Series(filepaths, name='filepaths')\n",
    "    Lseries=pd.Series(labels, name='labels')\n",
    "    if category=='test':\n",
    "        test_df=pd.concat([Fseries, Lseries], axis=1)\n",
    "    elif category=='train':\n",
    "        train_df=pd.concat([Fseries, Lseries], axis=1)      "
   ]
  },
  {
   "cell_type": "code",
   "execution_count": 16,
   "id": "6df77c22",
   "metadata": {},
   "outputs": [],
   "source": [
    "sample_list=[]\n",
    "max_size= max(counter)\n",
    "groups=train_df.groupby('labels')\n",
    "for label in train_df['labels'].unique():                 \n",
    "    group=groups.get_group(label)\n",
    "    sample_count=len(group)    \n",
    "    if sample_count> max_size:\n",
    "        samples=group.sample(max_size, replace=False, weights=None, random_state=123, axis=0).reset_index(drop=True)\n",
    "    else:\n",
    "        samples=group.sample(frac=1.0, replace=False, random_state=123, axis=0).reset_index(drop=True)\n",
    "    sample_list.append(samples)\n",
    "train_df=pd.concat(sample_list, axis=0).reset_index(drop=True)    "
   ]
  },
  {
   "cell_type": "code",
   "execution_count": 17,
   "id": "17ad7854",
   "metadata": {},
   "outputs": [],
   "source": [
    "import shutil\n",
    "sample_list = []\n",
    "max_size = max(counter) \n",
    "\n",
    "working_dir= os.getcwd() + '\\\\trafficsigns'\n",
    "aug_dir=os.path.join(working_dir, 'aug')  #create new direcotry to save augmented data\n",
    "\n",
    "if os.path.isdir(aug_dir):\n",
    "    shutil.rmtree(aug_dir)\n",
    "os.mkdir(aug_dir)\n",
    "for label in train_df['labels'].unique():\n",
    "    dir_path=os.path.join(aug_dir,label)    \n",
    "    os.mkdir(dir_path)"
   ]
  },
  {
   "cell_type": "code",
   "execution_count": 18,
   "id": "09ac9c2e",
   "metadata": {},
   "outputs": [
    {
     "name": "stdout",
     "output_type": "stream",
     "text": [
      "Found 80 validated image filenames.\n",
      "Found 98 validated image filenames.\n",
      "Found 150 validated image filenames.\n",
      "Found 150 validated image filenames.\n",
      "Found 138 validated image filenames.\n",
      "Found 36 validated image filenames.\n",
      "Found 22 validated image filenames.\n",
      "Found 12 validated image filenames.\n",
      "Found 18 validated image filenames.\n",
      "Found 100 validated image filenames.\n",
      "Found 126 validated image filenames.\n",
      "Found 28 validated image filenames.\n",
      "Found 26 validated image filenames.\n",
      "Found 150 validated image filenames.\n",
      "Found 40 validated image filenames.\n",
      "Found 58 validated image filenames.\n",
      "Found 12 validated image filenames.\n",
      "Found 10 validated image filenames.\n",
      "Found 150 validated image filenames.\n",
      "Found 150 validated image filenames.\n"
     ]
    }
   ],
   "source": [
    "target = max(counter) \n",
    "gen=ImageDataGenerator(rotation_range=20, width_shift_range=0.2, height_shift_range=0.2, zoom_range=0.2, brightness_range=(0.2, 0.8))\n",
    "groups=train_df.groupby('labels') # group by class\n",
    "for label in train_df['labels'].unique():  # for every class               \n",
    "    group=groups.get_group(label)  # a dataframe holding only rows with the specified label \n",
    "    sample_count=len(group)   # determine how many samples there are in this class  \n",
    "    if sample_count< target: # if the class has less than target number of images\n",
    "        aug_img_count=0\n",
    "        delta=target-sample_count  # number of augmented images to create\n",
    "        target_dir=os.path.join(aug_dir, label)  # define where to write the images    \n",
    "        aug_gen=gen.flow_from_dataframe( group,  x_col='filepaths', y_col=None, target_size=(400,400), class_mode=None, batch_size=1,\n",
    "                                         shuffle=False, save_to_dir=target_dir, save_prefix='aug-',save_format='jpg')\n",
    "        while aug_img_count<delta:\n",
    "            images=next(aug_gen)            \n",
    "            aug_img_count += len(images) "
   ]
  },
  {
   "cell_type": "code",
   "execution_count": 19,
   "id": "f2bfe734",
   "metadata": {},
   "outputs": [],
   "source": [
    "aug_fpaths=[]\n",
    "aug_labels=[]\n",
    "classlist=os.listdir(aug_dir)\n",
    "for klass in classlist:\n",
    "    classpath=os.path.join(aug_dir, klass)     \n",
    "    flist=os.listdir(classpath)    \n",
    "    for f in flist:        \n",
    "        fpath=os.path.join(classpath,f)         \n",
    "        aug_fpaths.append(fpath)\n",
    "        aug_labels.append(klass)\n",
    "Fseries=pd.Series(aug_fpaths, name='filepaths')\n",
    "Lseries=pd.Series(aug_labels, name='labels')\n",
    "aug_df=pd.concat([Fseries, Lseries], axis=1)\n",
    "\n",
    "train_df=pd.concat([train_df,aug_df], axis=0).reset_index(drop=True)\n",
    "train_df=train_df.sample(frac=1.0, replace=False, random_state=123, axis=0).reset_index(drop=True)"
   ]
  },
  {
   "cell_type": "markdown",
   "id": "b8158026",
   "metadata": {},
   "source": [
    "### Save all images in file 'data.xlsx'"
   ]
  },
  {
   "cell_type": "code",
   "execution_count": 22,
   "id": "b2a8a965",
   "metadata": {},
   "outputs": [],
   "source": [
    "train_df.to_excel('data.xlsx')"
   ]
  }
 ],
 "metadata": {
  "kernelspec": {
   "display_name": "Python 3 (ipykernel)",
   "language": "python",
   "name": "python3"
  },
  "language_info": {
   "codemirror_mode": {
    "name": "ipython",
    "version": 3
   },
   "file_extension": ".py",
   "mimetype": "text/x-python",
   "name": "python",
   "nbconvert_exporter": "python",
   "pygments_lexer": "ipython3",
   "version": "3.9.12"
  }
 },
 "nbformat": 4,
 "nbformat_minor": 5
}
